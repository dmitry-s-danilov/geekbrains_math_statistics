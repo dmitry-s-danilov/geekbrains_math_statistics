{
 "cells": [
  {
   "cell_type": "markdown",
   "metadata": {},
   "source": [
    "# Урок 1. Случайные события. Условная вероятность. Формула Байеса. Независимые испытания\n",
    "\n",
    "## Практическое задание"
   ]
  },
  {
   "cell_type": "code",
   "execution_count": 1,
   "metadata": {},
   "outputs": [],
   "source": [
    "from math import factorial\n",
    "\n",
    "def P(n):\n",
    "    \"\"\"permutations\"\"\"\n",
    "    return int(factorial(n))\n",
    "\n",
    "def A(n, k):\n",
    "    \"\"\"arrangements\"\"\"\n",
    "    return int(P(n) / P(n - k))\n",
    "\n",
    "def C(n, k):\n",
    "    \"\"\"combinations\"\"\"\n",
    "    return int(A(n, k) / P(k))"
   ]
  },
  {
   "cell_type": "markdown",
   "metadata": {},
   "source": [
    "###  Задача 1\n",
    "\n",
    "Из колоды в 52 карты извлекаются случайным образом 4 карты.\n",
    "1. Найти вероятность того, что все карты – крести.\n",
    "2. Найти вероятность, что среди 4-х карт окажется хотя бы один туз."
   ]
  },
  {
   "cell_type": "markdown",
   "metadata": {},
   "source": [
    "1.\n",
    "Решение:\n",
    "\n",
    "$ m = 52$  - число карт в колоде\n",
    "\n",
    "$ n = \\frac{54}{4} = 13 $  - число карт крести в колоде\n",
    "\n",
    "$ k = 4 $ - число извлеченных карт\n",
    "\n",
    "$ A $ - все извлеченные карты - крести\n",
    "\n",
    "$ W(A) = \\frac{C_n^k}{C_m^k} $"
   ]
  },
  {
   "cell_type": "code",
   "execution_count": 2,
   "metadata": {},
   "outputs": [
    {
     "name": "stdout",
     "output_type": "stream",
     "text": [
      "Ответ: W(A) = 0.00264\n"
     ]
    }
   ],
   "source": [
    "m, k = 52, 4\n",
    "n = m / 4\n",
    "\n",
    "W = C(n, k) / C(m, k)\n",
    "\n",
    "print(f'Ответ: W(A) = {W:0.3}')"
   ]
  },
  {
   "cell_type": "markdown",
   "metadata": {},
   "source": [
    "2.\n",
    "Решение:\n",
    "\n",
    "$ m = 52$  - число карт в колоде\n",
    "\n",
    "$ n = 4 $  - число тузов в колоде\n",
    "\n",
    "$ l = 4 $ - число извлеченных карт\n",
    "\n",
    "$ k = \\overline{1, n} $ - число извлеченных тузов\n",
    "\n",
    "$ A $ - среди извлеченных карт есть хотя бы один туз\n",
    "\n",
    "$ W(A) = \\frac{1}{C_{m}^{l}} \\sum_{k = 1}^{n} {C_{n}^{k} C_{m - n}^{l - k}} $"
   ]
  },
  {
   "cell_type": "code",
   "execution_count": 3,
   "metadata": {},
   "outputs": [
    {
     "name": "stdout",
     "output_type": "stream",
     "text": [
      "Ответ: W(A) = 0.281\n"
     ]
    }
   ],
   "source": [
    "m, n, l = 52, 4, 4\n",
    "\n",
    "W = sum(\n",
    "    [\n",
    "        C(n, k) * C(m - n, l - k)\n",
    "        for k in range(1, n + 1)\n",
    "    ]\n",
    ") / C(m, l)\n",
    "\n",
    "print(f'Ответ: W(A) = {W:0.3}')"
   ]
  },
  {
   "cell_type": "markdown",
   "metadata": {},
   "source": [
    "###  Задача 2\n",
    "\n",
    "На входной двери подъезда установлен кодовый замок,\n",
    "содержащий десять кнопок с цифрами от 0 до 9.\n",
    "Код содержит три цифры, которые нужно нажать одновременно.\n",
    "Какова вероятность того, что человек, не знающий код,\n",
    "откроет дверь с первой попытки?"
   ]
  },
  {
   "cell_type": "markdown",
   "metadata": {},
   "source": [
    "Решение:\n",
    "\n",
    "$ n = 10 $  - число кнопок с цифрами в кодовом замке\n",
    "\n",
    "$ k = 3 $  - число цифр в коде, которые нужно набрать одновременно\n",
    "\n",
    "$ A $ - угадывание кода с первой попытки\n",
    "\n",
    "\n",
    "$ W(A) = \\frac{1}{C_{n}^{k}} $"
   ]
  },
  {
   "cell_type": "code",
   "execution_count": 4,
   "metadata": {},
   "outputs": [
    {
     "name": "stdout",
     "output_type": "stream",
     "text": [
      "Ответ: W(A) = 0.00833\n"
     ]
    }
   ],
   "source": [
    "n, k = 10, 3\n",
    "\n",
    "W = 1 / C(n, k)\n",
    "\n",
    "print(f'Ответ: W(A) = {W:0.3}')"
   ]
  },
  {
   "cell_type": "markdown",
   "metadata": {},
   "source": [
    "###  Задача 3\n",
    "\n",
    "В ящике имеется 15 деталей, из которых 9 окрашены.\n",
    "Рабочий случайным образом извлекает 3 детали.\n",
    "Какова вероятность того, что все извлеченные детали окрашены?"
   ]
  },
  {
   "cell_type": "markdown",
   "metadata": {},
   "source": [
    "Решение:\n",
    "\n",
    "$ m = 15 $  - число деталей в ящике\n",
    "\n",
    "$ n = 9 $  - число окрашенных деталей\n",
    "\n",
    "$ k = 3 $  - число извлеченных деталей\n",
    "\n",
    "$ A $ - все извлеченные детали окрашены\n",
    "\n",
    "\n",
    "$ W(A) = \\frac{C_{n}^{k}}{C_{m}^{k}} $"
   ]
  },
  {
   "cell_type": "code",
   "execution_count": 5,
   "metadata": {},
   "outputs": [
    {
     "name": "stdout",
     "output_type": "stream",
     "text": [
      "Ответ: W(A) = 0.185\n"
     ]
    }
   ],
   "source": [
    "m, n, k = 15, 9, 3\n",
    "\n",
    "W = C(n, k) / C(m, k)\n",
    "\n",
    "print(f'Ответ: W(A) = {W:0.3}')"
   ]
  },
  {
   "cell_type": "markdown",
   "metadata": {},
   "source": [
    "###  Задача 4\n",
    "\n",
    "В лотерее 100 билетов. Из них 2 выигрышных.\n",
    "Какова вероятность того,\n",
    "что 2 приобретенных билета окажутся выигрышными?"
   ]
  },
  {
   "cell_type": "markdown",
   "metadata": {},
   "source": [
    "Решение:\n",
    "\n",
    "$ n = 100 $  - число билетов в лотерее\n",
    "\n",
    "$ k = 2 $  - число выйгрышных билетов\n",
    "\n",
    "$ A $ - оба приобретенных билета выйгрышные\n",
    "\n",
    "$ W(A) = \\frac{1}{C_{n}^{k}} $"
   ]
  },
  {
   "cell_type": "code",
   "execution_count": 6,
   "metadata": {},
   "outputs": [
    {
     "name": "stdout",
     "output_type": "stream",
     "text": [
      "Ответ: W(A) = 0.000202\n"
     ]
    }
   ],
   "source": [
    "n, k = 100, 2\n",
    "\n",
    "W = 1 / C(n, k)\n",
    "\n",
    "print(f'Ответ: W(A) = {W:0.3}')"
   ]
  }
 ],
 "metadata": {
  "kernelspec": {
   "display_name": "Python 3",
   "language": "python",
   "name": "python3"
  },
  "language_info": {
   "codemirror_mode": {
    "name": "ipython",
    "version": 3
   },
   "file_extension": ".py",
   "mimetype": "text/x-python",
   "name": "python",
   "nbconvert_exporter": "python",
   "pygments_lexer": "ipython3",
   "version": "3.8.7"
  }
 },
 "nbformat": 4,
 "nbformat_minor": 4
}
