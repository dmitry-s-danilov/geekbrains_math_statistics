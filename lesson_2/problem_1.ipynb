{
 "cells": [
  {
   "cell_type": "code",
   "execution_count": 1,
   "metadata": {},
   "outputs": [],
   "source": [
    "from my_lib import my_binom, my_combinations\n",
    "from scipy.stats import binom"
   ]
  },
  {
   "cell_type": "markdown",
   "metadata": {},
   "source": [
    "#### Задача 1\n",
    "\n",
    "Вероятность того, что стрелок попадет в мишень, выстрелив один раз, равна 0.8.\n",
    "Стрелок выстрелил 100 раз.\n",
    "Найдите вероятность того, что стрелок попадет в цель ровно 85 раз."
   ]
  },
  {
   "cell_type": "markdown",
   "metadata": {},
   "source": [
    "Решение:\n",
    "\n",
    "Последовательность выстрелов $\\left\\{x_i\\right\\}_{i=1}^n$,\n",
    "каждый из которых может быть либо успешным $x_i = 1$, либо нет $x_i = 0$,  \n",
    "образует пространство $\\Omega$\n",
    "элементарных исходов $\\omega = (x_1, x_2, \\cdots, x_n)$.\n",
    "\n",
    "$\n",
    "{n \\in \\mathbb{Z}}\n",
    "\\wedge\n",
    "{0 \\leq n}\n",
    "\\newline\n",
    "\\Omega = \\left\\{\n",
    "    (x_1, x_2, \\cdots, x_n)\n",
    "    \\mid\n",
    "    i = \\overline{1, n}\n",
    "    \\:\n",
    "    x_i \\in \\left\\{1, 0\\right\\}\n",
    "\\right\\}\n",
    "$\n",
    "\n",
    "Вероятность успеха в каждом из выстрелов $p_{x_i}$ постоянна и равна $p$.\n",
    "\n",
    "$\n",
    "{p \\in \\mathbb{R}}\n",
    "\\wedge\n",
    "{0 \\leq p \\leq 1}\n",
    "\\newline\n",
    "p_{x_i}(1) = p \n",
    "$\n",
    "\n",
    "Таким образом, случайная величина $y$, соответствующая событию,\n",
    "при котором в серии испытаний реализуется определённое количество успехов,\n",
    "имеет биномиальное распределение с параметрами $n$ и $p$.\n",
    "\n",
    "$\n",
    "y = \\sum_{i = 1}^n x_i\n",
    "\\newline\n",
    "y \\sim B(n, p)\n",
    "$\n",
    "\n",
    "При этом вероятность $p_y$ события,\n",
    "в котором случится $k$ успешных испытаний,\n",
    "может быть рассчитана по формуле:\n",
    "\n",
    "$\n",
    "{k \\in \\mathbb{Z}}\n",
    "\\wedge\n",
    "{0 \\leq k \\leq n}\n",
    "\\newline\n",
    "q = 1 - p\n",
    "\\newline\n",
    "p_y(k) = C_n^k p^k q^{n - k}\n",
    "$\n",
    "\n",
    "По условию задачи:\n",
    "$\n",
    "n = 100\n",
    "\\newline\n",
    "p = 0.8\n",
    "\\newline\n",
    "k = 85\n",
    "$\n",
    "\n",
    "Из чего следует:\n",
    "$\n",
    "q = 1 - p = 0.2\n",
    "\\newline\n",
    "p_y(85) = C_{100}^{85} {0.8}^{85} {0.2}^{15}\n",
    "$"
   ]
  },
  {
   "cell_type": "code",
   "execution_count": 2,
   "metadata": {},
   "outputs": [
    {
     "name": "stdout",
     "output_type": "stream",
     "text": [
      "number of trials (n): 100\n",
      "success probability (p): 0.8\n",
      "number of successes (k): 85\n",
      "probability: 0.048062\n",
      "check: True\n"
     ]
    }
   ],
   "source": [
    "# Set parameters. \n",
    "# Binomial distribution support and parameters.\n",
    "k, n, p = 85, 100, .8\n",
    "# Solution precision in decimal digits. \n",
    "ndigits = 6\n",
    "\n",
    "# Find probability in alternative ways.\n",
    "probability = [\n",
    "    my_combinations(n, k) * p**k * (1 - p)**(n - k),\n",
    "    my_binom(k, n, p),\n",
    "    binom.pmf(k, n, p)\n",
    "]\n",
    "\n",
    "# Round and check alternative solutions to be equal.\n",
    "probability = [round(_, ndigits=ndigits) for _ in probability]\n",
    "check = all([_ == probability[0] for _ in probability[1:]])\n",
    "\n",
    "print(\n",
    "    f'number of trials (n): {n}',\n",
    "    f'success probability (p): {p}',\n",
    "    f'number of successes (k): {k}',\n",
    "    f'probability: {probability[0]}',\n",
    "    f'check: {check}',\n",
    "    sep='\\n'    \n",
    ")"
   ]
  },
  {
   "cell_type": "code",
   "execution_count": 3,
   "metadata": {},
   "outputs": [
    {
     "name": "stdout",
     "output_type": "stream",
     "text": [
      "6.27 µs ± 259 ns per loop (mean ± std. dev. of 7 runs, 100000 loops each)\n"
     ]
    }
   ],
   "source": [
    "%%timeit\n",
    "my_binom(k, n, p)"
   ]
  },
  {
   "cell_type": "code",
   "execution_count": 4,
   "metadata": {},
   "outputs": [
    {
     "name": "stdout",
     "output_type": "stream",
     "text": [
      "308 µs ± 4.19 µs per loop (mean ± std. dev. of 7 runs, 1000 loops each)\n"
     ]
    }
   ],
   "source": [
    "%%timeit\n",
    "binom.pmf(k, n, p)"
   ]
  }
 ],
 "metadata": {
  "kernelspec": {
   "display_name": "Python 3",
   "language": "python",
   "name": "python3"
  },
  "language_info": {
   "codemirror_mode": {
    "name": "ipython",
    "version": 3
   },
   "file_extension": ".py",
   "mimetype": "text/x-python",
   "name": "python",
   "nbconvert_exporter": "python",
   "pygments_lexer": "ipython3",
   "version": "3.8.7"
  }
 },
 "nbformat": 4,
 "nbformat_minor": 4
}
