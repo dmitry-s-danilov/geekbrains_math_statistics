{
 "cells": [
  {
   "cell_type": "code",
   "execution_count": 1,
   "metadata": {},
   "outputs": [],
   "source": [
    "import numpy as np\n",
    "from scipy.stats import t"
   ]
  },
  {
   "cell_type": "code",
   "execution_count": 2,
   "metadata": {},
   "outputs": [
    {
     "name": "stdout",
     "output_type": "stream",
     "text": [
      "confidence interval: [6.27, 6.91]\n"
     ]
    }
   ],
   "source": [
    "# Set confidence level.\n",
    "C = .95\n",
    "\n",
    "# Set data sample.\n",
    "x = 6.9, 6.1, 6.2, 6.8, 7.5, 6.3, 6.4, 6.9, 6.7, 6.1\n",
    "\n",
    "n = len(x)\n",
    "\n",
    "A = 1 - C\n",
    "a = A / 2, 1 - A / 2\n",
    "z = t.ppf(a, n - 1)\n",
    "\n",
    "x = np.array(x)\n",
    "E1 = x.mean()\n",
    "S1 = x.std(ddof=1)\n",
    "\n",
    "Ea = [E1 - _ * S1 / n**.5 for _ in z[::-1]]\n",
    "\n",
    "print('confidence interval: [{:.3}, {:.3}]'.format(*Ea))"
   ]
  }
 ],
 "metadata": {
  "kernelspec": {
   "display_name": "Python 3",
   "language": "python",
   "name": "python3"
  },
  "language_info": {
   "codemirror_mode": {
    "name": "ipython",
    "version": 3
   },
   "file_extension": ".py",
   "mimetype": "text/x-python",
   "name": "python",
   "nbconvert_exporter": "python",
   "pygments_lexer": "ipython3",
   "version": "3.6.12"
  }
 },
 "nbformat": 4,
 "nbformat_minor": 4
}
