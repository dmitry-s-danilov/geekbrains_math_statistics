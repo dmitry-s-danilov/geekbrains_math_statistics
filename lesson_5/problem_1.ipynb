{
 "cells": [
  {
   "cell_type": "code",
   "execution_count": 1,
   "metadata": {},
   "outputs": [],
   "source": [
    "from scipy.stats import norm"
   ]
  },
  {
   "cell_type": "code",
   "execution_count": 2,
   "metadata": {},
   "outputs": [
    {
     "name": "stdout",
     "output_type": "stream",
     "text": [
      "confidence interval: [78.04, 81.96]\n"
     ]
    }
   ],
   "source": [
    "# Set parameters.\n",
    "S0 = 16  # population standard deviation\n",
    "n = 256  # sample size\n",
    "E1 = 80  # sample mean\n",
    "C = .95  # confidence level\n",
    "\n",
    "A = 1 - C\n",
    "a = A / 2, 1 - A / 2\n",
    "za = norm.ppf(a)\n",
    "\n",
    "Ea = [E1 - _ * S0 / n**.5 for _ in za[::-1]]\n",
    "\n",
    "print('confidence interval: [{:.4}, {:.4}]'.format(*Ea))"
   ]
  }
 ],
 "metadata": {
  "kernelspec": {
   "display_name": "Python 3",
   "language": "python",
   "name": "python3"
  },
  "language_info": {
   "codemirror_mode": {
    "name": "ipython",
    "version": 3
   },
   "file_extension": ".py",
   "mimetype": "text/x-python",
   "name": "python",
   "nbconvert_exporter": "python",
   "pygments_lexer": "ipython3",
   "version": "3.6.12"
  }
 },
 "nbformat": 4,
 "nbformat_minor": 4
}
