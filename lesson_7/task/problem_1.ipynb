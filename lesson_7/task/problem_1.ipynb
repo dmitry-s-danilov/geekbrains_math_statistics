{
 "cells": [
  {
   "cell_type": "code",
   "execution_count": 1,
   "metadata": {},
   "outputs": [],
   "source": [
    "import numpy as np\n",
    "import matplotlib.pyplot as plt\n",
    "\n",
    "from problem_1_lib import linregress_1\n",
    "from problem_1_data import x, y"
   ]
  },
  {
   "cell_type": "code",
   "execution_count": 2,
   "metadata": {},
   "outputs": [
    {
     "data": {
      "text/plain": [
       "\u001b[0mx\u001b[0m \u001b[0;34m=\u001b[0m \u001b[0;34m[\u001b[0m\u001b[0;36m35\u001b[0m\u001b[0;34m,\u001b[0m \u001b[0;36m45\u001b[0m\u001b[0;34m,\u001b[0m \u001b[0;36m190\u001b[0m\u001b[0;34m,\u001b[0m \u001b[0;36m200\u001b[0m\u001b[0;34m,\u001b[0m \u001b[0;36m40\u001b[0m\u001b[0;34m,\u001b[0m \u001b[0;36m70\u001b[0m\u001b[0;34m,\u001b[0m \u001b[0;36m54\u001b[0m\u001b[0;34m,\u001b[0m \u001b[0;36m150\u001b[0m\u001b[0;34m,\u001b[0m \u001b[0;36m120\u001b[0m\u001b[0;34m,\u001b[0m \u001b[0;36m110\u001b[0m\u001b[0;34m]\u001b[0m\u001b[0;34m\u001b[0m\n",
       "\u001b[0;34m\u001b[0m\u001b[0my\u001b[0m \u001b[0;34m=\u001b[0m \u001b[0;34m[\u001b[0m\u001b[0;36m401\u001b[0m\u001b[0;34m,\u001b[0m \u001b[0;36m574\u001b[0m\u001b[0;34m,\u001b[0m \u001b[0;36m874\u001b[0m\u001b[0;34m,\u001b[0m \u001b[0;36m919\u001b[0m\u001b[0;34m,\u001b[0m \u001b[0;36m459\u001b[0m\u001b[0;34m,\u001b[0m \u001b[0;36m739\u001b[0m\u001b[0;34m,\u001b[0m \u001b[0;36m653\u001b[0m\u001b[0;34m,\u001b[0m \u001b[0;36m902\u001b[0m\u001b[0;34m,\u001b[0m \u001b[0;36m746\u001b[0m\u001b[0;34m,\u001b[0m \u001b[0;36m832\u001b[0m\u001b[0;34m]\u001b[0m\u001b[0;34m\u001b[0m\u001b[0;34m\u001b[0m\u001b[0m\n"
      ]
     },
     "metadata": {},
     "output_type": "display_data"
    }
   ],
   "source": [
    "# Show data.\n",
    "%pycat problem_1_data.py"
   ]
  },
  {
   "cell_type": "code",
   "execution_count": 3,
   "metadata": {},
   "outputs": [
    {
     "name": "stdout",
     "output_type": "stream",
     "text": [
      "interception: True\n",
      "linregress: slope=2.620539 intercept=444.177357 \n",
      "linregress_1: slope=2.620539 intercept=444.177357 True\n",
      "linregress_2: slope=2.620539 intercept=444.177357 True\n",
      "linregress_3: slope=2.620539 intercept=444.177357 True\n",
      "interception: False\n",
      "linregress_1: slope=5.889820 intercept=0.000000 \n",
      "linregress_2: slope=5.889820 intercept=0.000000 True\n",
      "linregress_3: slope=5.889820 intercept=0.000000 True\n"
     ]
    }
   ],
   "source": [
    "# Test functions.\n",
    "%run problem_1_test.py"
   ]
  },
  {
   "cell_type": "code",
   "execution_count": 4,
   "metadata": {},
   "outputs": [],
   "source": [
    "# Find coefficients.\n",
    "W = [\n",
    "    [w['intercept'], w['slope']]\n",
    "    for w in [\n",
    "        linregress_1(x, y),\n",
    "        linregress_1(x, y, interception=False)\n",
    "    ]\n",
    "]\n",
    "\n",
    "# Make predictions.\n",
    "Z = [w[1] * x  + w[0] for w in W]"
   ]
  },
  {
   "cell_type": "code",
   "execution_count": 5,
   "metadata": {},
   "outputs": [
    {
     "data": {
      "image/png": "[encoded data removed]",
      "text/plain": [
       "<Figure size 432x288 with 1 Axes>"
      ]
     },
     "metadata": {
      "needs_background": "light"
     },
     "output_type": "display_data"
    }
   ],
   "source": [
    "# Plot data and predictions.\n",
    "plt.scatter(x, y, label='data')\n",
    "plt.plot(x, Z[0], label='predictions with intercept')\n",
    "plt.plot(x, Z[1], label='predictions intercept less')\n",
    "plt.legend()\n",
    "plt.show()"
   ]
  }
 ],
 "metadata": {
  "kernelspec": {
   "display_name": "math_statistics",
   "language": "python",
   "name": "math_statistics"
  },
  "language_info": {
   "codemirror_mode": {
    "name": "ipython",
    "version": 3
   },
   "file_extension": ".py",
   "mimetype": "text/x-python",
   "name": "python",
   "nbconvert_exporter": "python",
   "pygments_lexer": "ipython3",
   "version": "3.6.12"
  }
 },
 "nbformat": 4,
 "nbformat_minor": 4
}
