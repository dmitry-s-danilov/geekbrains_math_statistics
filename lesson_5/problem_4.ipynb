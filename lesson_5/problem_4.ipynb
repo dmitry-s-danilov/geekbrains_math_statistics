{
 "cells": [
  {
   "cell_type": "code",
   "execution_count": 1,
   "metadata": {},
   "outputs": [],
   "source": [
    "import numpy as np\n",
    "from task_lib import alternative_hypothesis_1"
   ]
  },
  {
   "cell_type": "code",
   "execution_count": 2,
   "metadata": {},
   "outputs": [
    {
     "name": "stdout",
     "output_type": "stream",
     "text": [
      "alternative hypothesis: False\n"
     ]
    }
   ],
   "source": [
    "# Set parameters\n",
    "E_0 = 200  # population mean\n",
    "C = .99  # confidence level\n",
    "\n",
    "# Set data sample.\n",
    "x = 202, 203, 199, 197, 195, 201, 200, 204, 194, 190\n",
    "\n",
    "A = 1 - C\n",
    "n = len(x)\n",
    "\n",
    "x = np.array(x)\n",
    "E_1 = x.mean()\n",
    "S_1 = x.std(ddof=1)\n",
    "z_1 = (E_1 - E_0) * n**.5 / S_1\n",
    "\n",
    "print(\n",
    "    'alternative hypothesis:',\n",
    "    alternative_hypothesis_1(z_1, A, n)\n",
    ")"
   ]
  }
 ],
 "metadata": {
  "kernelspec": {
   "display_name": "Python 3",
   "language": "python",
   "name": "python3"
  },
  "language_info": {
   "codemirror_mode": {
    "name": "ipython",
    "version": 3
   },
   "file_extension": ".py",
   "mimetype": "text/x-python",
   "name": "python",
   "nbconvert_exporter": "python",
   "pygments_lexer": "ipython3",
   "version": "3.6.12"
  }
 },
 "nbformat": 4,
 "nbformat_minor": 4
}
