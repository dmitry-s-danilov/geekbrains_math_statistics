{
 "cells": [
  {
   "cell_type": "code",
   "execution_count": 1,
   "metadata": {},
   "outputs": [],
   "source": [
    "import numpy as np\n",
    "from task_lib import significance_interval, confidence_interval"
   ]
  },
  {
   "cell_type": "code",
   "execution_count": 2,
   "metadata": {},
   "outputs": [
    {
     "name": "stdout",
     "output_type": "stream",
     "text": [
      "confidence interval: [111, 126]\n"
     ]
    }
   ],
   "source": [
    "# Set confidence level.\n",
    "C = .95\n",
    "\n",
    "# Set data sample.\n",
    "x = 131, 125, 115, 122, 131, 115, 107, 99, 125, 111\n",
    "\n",
    "A = 1 - C\n",
    "n = len(x)\n",
    "\n",
    "x = np.array(x)\n",
    "E_x = x.mean()\n",
    "S_x = x.std(ddof=1)\n",
    "\n",
    "z_a_i = significance_interval(A, n)\n",
    "E_0_i = confidence_interval(E_x, S_x, n, z_a_i)\n",
    "\n",
    "print(\n",
    "    'confidence interval: [{:.0f}, {:.0f}]'.\n",
    "    format(*E_0_i)\n",
    ")"
   ]
  }
 ],
 "metadata": {
  "kernelspec": {
   "display_name": "Python 3",
   "language": "python",
   "name": "python3"
  },
  "language_info": {
   "codemirror_mode": {
    "name": "ipython",
    "version": 3
   },
   "file_extension": ".py",
   "mimetype": "text/x-python",
   "name": "python",
   "nbconvert_exporter": "python",
   "pygments_lexer": "ipython3",
   "version": "3.6.12"
  }
 },
 "nbformat": 4,
 "nbformat_minor": 4
}
