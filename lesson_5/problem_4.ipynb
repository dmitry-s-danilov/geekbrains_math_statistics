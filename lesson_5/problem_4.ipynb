{
 "cells": [
  {
   "cell_type": "code",
   "execution_count": 1,
   "metadata": {},
   "outputs": [],
   "source": [
    "import numpy as np\n",
    "from scipy.stats import t"
   ]
  },
  {
   "cell_type": "code",
   "execution_count": 2,
   "metadata": {},
   "outputs": [
    {
     "name": "stdout",
     "output_type": "stream",
     "text": [
      "alternative hypothesis: False\n"
     ]
    }
   ],
   "source": [
    "# Set parameters\n",
    "E0 = 200  # population mean\n",
    "C = .99  # confidence level\n",
    "\n",
    "# Set data sample.\n",
    "x = 202, 203, 199, 197, 195, 201, 200, 204, 194, 190\n",
    "\n",
    "def H1(z, za):\n",
    "    return z < za[0] or za[1] < z\n",
    "\n",
    "n = len(x)\n",
    "\n",
    "A = 1 - C\n",
    "a = A / 2, 1 - A / 2\n",
    "za = t.ppf(a, n - 1)\n",
    "\n",
    "x = np.array(x)\n",
    "E1 = x.mean()\n",
    "S1 = x.std(ddof=1)\n",
    "z1 = (E1 - E0) * n**.5 / S1\n",
    "\n",
    "print(f'alternative hypothesis: {H1(z1, za)}')"
   ]
  }
 ],
 "metadata": {
  "kernelspec": {
   "display_name": "Python 3",
   "language": "python",
   "name": "python3"
  },
  "language_info": {
   "codemirror_mode": {
    "name": "ipython",
    "version": 3
   },
   "file_extension": ".py",
   "mimetype": "text/x-python",
   "name": "python",
   "nbconvert_exporter": "python",
   "pygments_lexer": "ipython3",
   "version": "3.6.12"
  }
 },
 "nbformat": 4,
 "nbformat_minor": 4
}
