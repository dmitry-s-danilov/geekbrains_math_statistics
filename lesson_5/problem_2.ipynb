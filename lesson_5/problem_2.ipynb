{
 "cells": [
  {
   "cell_type": "code",
   "execution_count": 1,
   "metadata": {},
   "outputs": [],
   "source": [
    "import numpy as np\n",
    "from task_lib import significance_interval, confidence_interval"
   ]
  },
  {
   "cell_type": "code",
   "execution_count": 2,
   "metadata": {},
   "outputs": [
    {
     "name": "stdout",
     "output_type": "stream",
     "text": [
      "confidence interval: [6.27, 6.91]\n"
     ]
    }
   ],
   "source": [
    "# Set confidence level.\n",
    "C = .95\n",
    "\n",
    "# Set data sample.\n",
    "x = 6.9, 6.1, 6.2, 6.8, 7.5, 6.3, 6.4, 6.9, 6.7, 6.1\n",
    "\n",
    "A = 1 - C\n",
    "n = len(x)\n",
    "\n",
    "x = np.array(x)\n",
    "E_x = x.mean()\n",
    "S_x = x.std(ddof=1)\n",
    "\n",
    "z_a_i = significance_interval(A, n)\n",
    "E_0_i = confidence_interval(E_x, S_x, n, z_a_i)\n",
    "\n",
    "print(\n",
    "    'confidence interval: [{:.2f}, {:.2f}]'.\n",
    "    format(*E_0_i)\n",
    ")"
   ]
  }
 ],
 "metadata": {
  "kernelspec": {
   "display_name": "Python 3",
   "language": "python",
   "name": "python3"
  },
  "language_info": {
   "codemirror_mode": {
    "name": "ipython",
    "version": 3
   },
   "file_extension": ".py",
   "mimetype": "text/x-python",
   "name": "python",
   "nbconvert_exporter": "python",
   "pygments_lexer": "ipython3",
   "version": "3.6.12"
  }
 },
 "nbformat": 4,
 "nbformat_minor": 4
}
