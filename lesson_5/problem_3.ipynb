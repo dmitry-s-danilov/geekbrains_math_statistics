{
 "cells": [
  {
   "cell_type": "code",
   "execution_count": 1,
   "metadata": {},
   "outputs": [],
   "source": [
    "from scipy.stats import t"
   ]
  },
  {
   "cell_type": "code",
   "execution_count": 2,
   "metadata": {},
   "outputs": [
    {
     "name": "stdout",
     "output_type": "stream",
     "text": [
      "alternative hypothesis: True\n"
     ]
    }
   ],
   "source": [
    "# Set parameters.\n",
    "E0 = 17  # population mean\n",
    "n = 100  # sample size\n",
    "E1 = 17.5  # sample mean\n",
    "D1 = 4  # sample variance \n",
    "A = .05  # statistical significance\n",
    "\n",
    "def H1(z, za):\n",
    "    return za < z\n",
    "\n",
    "a = 1 - A\n",
    "za = t.ppf(a, n - 1)\n",
    "    \n",
    "S1 = D1**.5\n",
    "z1 = (E1 - E0) * n**.5 / S1\n",
    "\n",
    "print(f'alternative hypothesis: {H1(z1, za)}')"
   ]
  }
 ],
 "metadata": {
  "kernelspec": {
   "display_name": "Python 3",
   "language": "python",
   "name": "python3"
  },
  "language_info": {
   "codemirror_mode": {
    "name": "ipython",
    "version": 3
   },
   "file_extension": ".py",
   "mimetype": "text/x-python",
   "name": "python",
   "nbconvert_exporter": "python",
   "pygments_lexer": "ipython3",
   "version": "3.6.12"
  }
 },
 "nbformat": 4,
 "nbformat_minor": 4
}
