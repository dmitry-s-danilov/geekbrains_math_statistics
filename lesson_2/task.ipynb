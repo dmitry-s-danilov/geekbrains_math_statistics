{
 "cells": [
  {
   "cell_type": "markdown",
   "metadata": {},
   "source": [
    "# Урок 2. Дискретные случайные величины. Закон распределения вероятностей. Биномиальный закон распределения. Распределение Пуассона\n",
    "\n",
    "## Практическое задание"
   ]
  },
  {
   "cell_type": "code",
   "execution_count": 1,
   "metadata": {},
   "outputs": [],
   "source": [
    "from math import factorial, exp\n",
    "from scipy.stats import binom, poisson"
   ]
  },
  {
   "cell_type": "code",
   "execution_count": 2,
   "metadata": {},
   "outputs": [],
   "source": [
    "def my_combinations(n, k):\n",
    "    return factorial(n) / factorial(k) / factorial(n - k)\n",
    "\n",
    "\n",
    "def my_binom(k, n, p):\n",
    "    return my_combinations(n, k) * p**k * (1 - p)**(n - k)\n",
    "\n",
    "\n",
    "def my_poisson(k, mu):\n",
    "    return exp(-mu) * mu**k / factorial(k)"
   ]
  },
  {
   "cell_type": "markdown",
   "metadata": {},
   "source": [
    "#### Задача 1\n",
    "\n",
    "Вероятность того, что стрелок попадет в мишень, выстрелив один раз, равна 0.8.\n",
    "Стрелок выстрелил 100 раз.\n",
    "Найдите вероятность того, что стрелок попадет в цель ровно 85 раз."
   ]
  },
  {
   "cell_type": "markdown",
   "metadata": {},
   "source": [
    "Решение:\n",
    "\n",
    "Последовательность выстрелов $\\left\\{x_i\\right\\}_{i=1}^n$,\n",
    "каждый из которых может быть либо успешным $x_i = 1$, либо нет $x_i = 0$,  \n",
    "образует пространство $\\Omega$\n",
    "элементарных исходов $\\omega = (x_1, x_2, \\cdots, x_n)$.\n",
    "\n",
    "$\n",
    "{n \\in \\mathbb{Z}}\n",
    "\\wedge\n",
    "{0 \\leq n}\n",
    "\\newline\n",
    "\\Omega = \\left\\{\n",
    "    (x_1, x_2, \\cdots, x_n)\n",
    "    \\mid\n",
    "    i = \\overline{1, n}\n",
    "    \\:\n",
    "    x_i \\in \\left\\{1, 0\\right\\}\n",
    "\\right\\}\n",
    "$\n",
    "\n",
    "Вероятность успеха в каждом из выстрелов $p_{x_i}$ постоянна и равна $p$.\n",
    "\n",
    "$\n",
    "{p \\in \\mathbb{R}}\n",
    "\\wedge\n",
    "{0 \\leq p \\leq 1}\n",
    "\\newline\n",
    "p_{x_i}(1) = p \n",
    "$\n",
    "\n",
    "Таким образом, случайная величина $y$, соответствующая событию,\n",
    "при котором в серии испытаний реализуется определённое количество успехов,\n",
    "имеет биномиальное распределение с параметрами $n$ и $p$.\n",
    "\n",
    "$\n",
    "y = \\sum_{i = 1}^n x_i\n",
    "\\newline\n",
    "y \\sim B(n, p)\n",
    "$\n",
    "\n",
    "При этом вероятность $p_y$ события,\n",
    "в котором случится $k$ успешных испытаний,\n",
    "может быть рассчитана по формуле:\n",
    "\n",
    "$\n",
    "{k \\in \\mathbb{Z}}\n",
    "\\wedge\n",
    "{0 \\leq k \\leq n}\n",
    "\\newline\n",
    "q = 1 - p\n",
    "\\newline\n",
    "p_y(k) = C_n^k p^k q^{n - k}\n",
    "$\n",
    "\n",
    "По условию задачи:\n",
    "$\n",
    "n = 100\n",
    "\\newline\n",
    "p = 0.8\n",
    "\\newline\n",
    "k = 85\n",
    "$\n",
    "\n",
    "Из чего следует:\n",
    "$\n",
    "q = 1 - p = 0.2\n",
    "\\newline\n",
    "p_y(85) = C_{100}^{85} {0.8}^{85} {0.2}^{15}\n",
    "$"
   ]
  },
  {
   "cell_type": "code",
   "execution_count": 3,
   "metadata": {},
   "outputs": [
    {
     "name": "stdout",
     "output_type": "stream",
     "text": [
      "number of trials (n): 100\n",
      "success probability (p): 0.8\n",
      "number of successes (k): 85\n",
      "probability: 0.048062\n",
      "check: True\n"
     ]
    }
   ],
   "source": [
    "# Set parameters.\n",
    "# Binomial distribution\n",
    "# support and parameters: k, n, p.\n",
    "parameters = 85, 100, .8\n",
    "# Solution precision in decimal digits.\n",
    "ndigits = 6\n",
    "\n",
    "# Find probability in alternative ways.\n",
    "probability = [\n",
    "    my_binom(*parameters),\n",
    "    binom.pmf(*parameters)\n",
    "]\n",
    "\n",
    "# Round and check alternative solutions to be equal.\n",
    "probability = [round(_, ndigits=ndigits) for _ in probability]\n",
    "check = probability[0] == probability[1]\n",
    "\n",
    "print(\n",
    "    f'number of trials (n): {parameters[1]}',\n",
    "    f'success probability (p): {parameters[2]}',\n",
    "    f'number of successes (k): {parameters[0]}',\n",
    "    f'probability: {probability[0]}',\n",
    "    f'check: {check}',\n",
    "    sep='\\n'    \n",
    ")"
   ]
  },
  {
   "cell_type": "code",
   "execution_count": 4,
   "metadata": {},
   "outputs": [
    {
     "name": "stdout",
     "output_type": "stream",
     "text": [
      "5.47 µs ± 48.6 ns per loop (mean ± std. dev. of 7 runs, 100000 loops each)\n"
     ]
    }
   ],
   "source": [
    "%%timeit\n",
    "my_binom(*parameters)"
   ]
  },
  {
   "cell_type": "code",
   "execution_count": 5,
   "metadata": {},
   "outputs": [
    {
     "name": "stdout",
     "output_type": "stream",
     "text": [
      "312 µs ± 6.17 µs per loop (mean ± std. dev. of 7 runs, 1000 loops each)\n"
     ]
    }
   ],
   "source": [
    "%%timeit\n",
    "binom.pmf(*parameters)"
   ]
  },
  {
   "cell_type": "markdown",
   "metadata": {},
   "source": [
    "#### Задача 2\n",
    "\n",
    "Вероятность того, что лампочка перегорит в течение первого дня эксплуатации, равна 0.0004.\n",
    "В жилом комплексе после ремонта в один день включили 5000 новых лампочек.\n",
    "1. Какова вероятность, что ни одна из них не перегорит в первый день? \n",
    "2. Какова вероятность, что перегорят ровно две?"
   ]
  },
  {
   "cell_type": "markdown",
   "metadata": {},
   "source": [
    "1.\n",
    "Решение\n",
    "\n",
    "1.1\n",
    "\n",
    "$\n",
    "q = 1 - p\n",
    "\\newline\n",
    "p_y(0) =\n",
    "\\prod_{i=1}^n q = \n",
    "q^n\n",
    "$\n",
    "\n",
    "1.2\n",
    "\n",
    "$\n",
    "q = 1 - p\n",
    "\\newline\n",
    "p_y(k) =\n",
    "f(k, n, p) =\n",
    "C_n^k p^k q^{n - k}\n",
    "$\n",
    "\n",
    "$\n",
    "k = 0\n",
    "$\n",
    "\n",
    "$\n",
    "p_y(0) =\n",
    "f(0, n, p) =\n",
    "C_n^0 p^0 q^n =\n",
    "q^n\n",
    "$\n",
    "\n",
    "2.\n",
    "\n",
    "$\n",
    "n = 5000\n",
    "\\newline\n",
    "p = 0.0004\n",
    "$\n",
    "\n",
    "$\n",
    "q = 1 - p = 0.9996\n",
    "\\newline\n",
    "p_y(0) =\n",
    "q^n =\n",
    "{0.9996}^{5000}\n",
    "$\n",
    "\n",
    "3.\n",
    "\n",
    "$\n",
    "\\mu = n p\n",
    "\\newline\n",
    "p_y(k) =\n",
    "f(k, \\mu) =\n",
    "e^{-\\mu}{\\mu^k\\over{k!}}\n",
    "$\n",
    "\n",
    "$\n",
    "k = 0\n",
    "$\n",
    "\n",
    "$\n",
    "p_y(0) =\n",
    "f(0, \\mu) =\n",
    "e^{-\\mu}{\\mu^0\\over{0!}} =\n",
    "e^{-\\mu}\n",
    "$\n",
    "\n",
    "\n",
    "\n",
    "$\n",
    "n = 5000\n",
    "\\newline\n",
    "p = 0.0004\n",
    "$\n",
    "\n",
    "$\n",
    "\\mu = n p\n",
    "= 2\n",
    "$\n",
    "\n",
    "\n",
    "$\n",
    "p_y(0) = e^{-2}\n",
    "$"
   ]
  },
  {
   "cell_type": "code",
   "execution_count": 6,
   "metadata": {},
   "outputs": [
    {
     "name": "stdout",
     "output_type": "stream",
     "text": [
      "number of trials (n): 5000\n",
      "success probability (p): 0.0004\n",
      "failure probability (q): 0.9996\n",
      "rate (mu): 2.0\n",
      "Binomial probability: 0.135281\n",
      "Poisson probability: 0.135335\n",
      "Absolute difference: 5.3999999999998494e-05\n"
     ]
    }
   ],
   "source": [
    "# Set parameters.\n",
    "# Binomial distribution support and parameters.\n",
    "n, p = 5000, .0004\n",
    "# Solution precision in decimal digits.\n",
    "ndigits = 6\n",
    "\n",
    "# Binomial distribution failure probability.\n",
    "q = 1 - p\n",
    "# Poisson distribution parameter.\n",
    "mu = n * p\n",
    "\n",
    "# Find probability in alternative ways.\n",
    "probability = [\n",
    "    q ** n,\n",
    "    exp(-mu)\n",
    "]\n",
    "\n",
    "# Round solutions and find absolute difference.\n",
    "probability = [round(_, ndigits=ndigits) for _ in probability]\n",
    "difference = abs(probability[0] - probability[1])\n",
    "\n",
    "print(\n",
    "    f'number of trials (n): {n}',\n",
    "    f'success probability (p): {p}',\n",
    "    f'failure probability (q): {q}',\n",
    "    f'rate (mu): {mu}',\n",
    "    f'Binomial probability: {probability[0]}',\n",
    "    f'Poisson probability: {probability[1]}',\n",
    "    f'Absolute difference: {difference}',\n",
    "    sep='\\n'\n",
    ")"
   ]
  },
  {
   "cell_type": "code",
   "execution_count": 7,
   "metadata": {},
   "outputs": [
    {
     "name": "stdout",
     "output_type": "stream",
     "text": [
      "number of trials (n): 5000\n",
      "success probability (p): 0.0004\n",
      "number of successes (k): 0\n",
      "rate (mu): 2.0\n",
      "probability: 0.135335\n",
      "check: True\n"
     ]
    }
   ],
   "source": [
    "# Set parameters.\n",
    "# Binomial distribution support and parameters.\n",
    "k, n, p = 0, 5000, .0004\n",
    "# Solution precision in decimal digits.\n",
    "ndigits = 6\n",
    "\n",
    "# Poisson distribution parameter.\n",
    "mu = n * p\n",
    "\n",
    "# Find probability in alternative ways.\n",
    "probability = [\n",
    "    exp(-mu),\n",
    "    my_poisson(k, mu),\n",
    "    poisson.pmf(k, mu)\n",
    "]\n",
    "\n",
    "# Round and check alternative solutions to be equal.\n",
    "probability = [round(_, ndigits=ndigits) for _ in probability]\n",
    "check = all([_ == probability[0] for _ in probability[1:]])\n",
    "\n",
    "print(\n",
    "    f'number of trials (n): {n}',\n",
    "    f'success probability (p): {p}',\n",
    "    f'number of successes (k): {k}',\n",
    "    f'rate (mu): {mu}',\n",
    "    f'probability: {probability[0]}',\n",
    "    f'check: {check}',\n",
    "    sep='\\n'    \n",
    ")"
   ]
  },
  {
   "cell_type": "code",
   "execution_count": 8,
   "metadata": {},
   "outputs": [
    {
     "name": "stdout",
     "output_type": "stream",
     "text": [
      "497 ns ± 5.47 ns per loop (mean ± std. dev. of 7 runs, 1000000 loops each)\n"
     ]
    }
   ],
   "source": [
    "%%timeit\n",
    "my_poisson(k, mu)"
   ]
  },
  {
   "cell_type": "code",
   "execution_count": 9,
   "metadata": {},
   "outputs": [
    {
     "name": "stdout",
     "output_type": "stream",
     "text": [
      "255 µs ± 5.02 µs per loop (mean ± std. dev. of 7 runs, 1000 loops each)\n"
     ]
    }
   ],
   "source": [
    "%%timeit\n",
    "poisson.pmf(k, mu)"
   ]
  },
  {
   "cell_type": "markdown",
   "metadata": {},
   "source": [
    "#### Задача 3\n",
    "\n",
    "Монету подбросили 144 раза.\n",
    "Какова вероятность, что орел выпадет ровно 70 раз? "
   ]
  },
  {
   "cell_type": "markdown",
   "metadata": {},
   "source": [
    "Решение:\n",
    "\n",
    "1.1\n",
    "\n",
    "$\n",
    "p_y(k) =\n",
    "{C_n^k\\over\\bar{A_2^n}} =\n",
    "{C_n^k\\over2^n}\n",
    "$\n",
    "\n",
    "\n",
    "1.2\n",
    "\n",
    "$\n",
    "q = 1 - p\n",
    "\\newline\n",
    "p_y(k) =\n",
    "f(k, n, p) =\n",
    "C_n^k p^k q^{n - k}\n",
    "$\n",
    "\n",
    "$\n",
    "p = 0.5\n",
    "\\newline\n",
    "q = 1 - p = 0.5 = p\n",
    "$\n",
    "\n",
    "$\n",
    "p_y(k) =\n",
    "f(k, n, 0.5) =\n",
    "C_n^k p^k p^{n - k} =\n",
    "C_n^k p^n =\n",
    "{C_n^k \\over 2^n}\n",
    "$\n",
    "\n",
    "2.\n",
    "\n",
    "$\n",
    "k = 70\n",
    "\\newline\n",
    "n = 144\n",
    "$\n",
    "\n",
    "$\n",
    "p_y(k) =\n",
    "{C_{144}^{70} \\over 2^{144}}\n",
    "$"
   ]
  },
  {
   "cell_type": "code",
   "execution_count": 10,
   "metadata": {},
   "outputs": [
    {
     "name": "stdout",
     "output_type": "stream",
     "text": [
      "number of trials (n): 144\n",
      "success probability (p): 0.5\n",
      "number of successes (k): 70\n",
      "probability: 0.062812\n",
      "check: True\n"
     ]
    }
   ],
   "source": [
    "# Set parameters. \n",
    "# Binomial distribution support and parameters.\n",
    "k, n, p = 70, 144, .5\n",
    "# Solution precision in decimal digits. \n",
    "ndigits = 6\n",
    "\n",
    "# Find probability in alternative ways.\n",
    "probability = [\n",
    "    my_combinations(n, k) * p**n,\n",
    "    my_binom(k, n, p),\n",
    "    binom.pmf(k, n, p)\n",
    "]\n",
    "\n",
    "# Round and check alternative solutions to be equal.\n",
    "probability = [round(_, ndigits=ndigits) for _ in probability]\n",
    "check = all([_ == probability[0] for _ in probability[1:]])\n",
    "\n",
    "print(\n",
    "    f'number of trials (n): {n}',\n",
    "    f'success probability (p): {p}',\n",
    "    f'number of successes (k): {k}',\n",
    "    f'probability: {probability[0]}',\n",
    "    f'check: {check}',\n",
    "    sep='\\n'    \n",
    ")"
   ]
  },
  {
   "cell_type": "code",
   "execution_count": 11,
   "metadata": {},
   "outputs": [
    {
     "name": "stdout",
     "output_type": "stream",
     "text": [
      "6.98 µs ± 203 ns per loop (mean ± std. dev. of 7 runs, 100000 loops each)\n"
     ]
    }
   ],
   "source": [
    "%%timeit\n",
    "my_binom(k, n, p)"
   ]
  },
  {
   "cell_type": "code",
   "execution_count": 12,
   "metadata": {},
   "outputs": [
    {
     "name": "stdout",
     "output_type": "stream",
     "text": [
      "348 µs ± 18.7 µs per loop (mean ± std. dev. of 7 runs, 1000 loops each)\n"
     ]
    }
   ],
   "source": [
    "%%timeit\n",
    "binom.pmf(k, n, p)"
   ]
  },
  {
   "cell_type": "markdown",
   "metadata": {},
   "source": [
    "#### Задача 4\n",
    "\n",
    "В первом ящике находится 10 мячей, из которых 7 - белые.\n",
    "Во втором ящике - 11 мячей, из которых 9 белых.\n",
    "Из каждого ящика вытаскивают случайным образом по два мяча.\n",
    "1. Какова вероятность того, что все мячи белые?\n",
    "2. Какова вероятность того, что ровно два мяча белые?\n",
    "3. Какова вероятность того, что хотя бы один мяч белый?"
   ]
  }
 ],
 "metadata": {
  "kernelspec": {
   "display_name": "Python 3",
   "language": "python",
   "name": "python3"
  },
  "language_info": {
   "codemirror_mode": {
    "name": "ipython",
    "version": 3
   },
   "file_extension": ".py",
   "mimetype": "text/x-python",
   "name": "python",
   "nbconvert_exporter": "python",
   "pygments_lexer": "ipython3",
   "version": "3.8.7"
  }
 },
 "nbformat": 4,
 "nbformat_minor": 4
}
