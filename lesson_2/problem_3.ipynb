{
 "cells": [
  {
   "cell_type": "code",
   "execution_count": 1,
   "metadata": {},
   "outputs": [],
   "source": [
    "from my_lib import my_combinations, my_binom\n",
    "from scipy.stats import binom"
   ]
  },
  {
   "cell_type": "markdown",
   "metadata": {},
   "source": [
    "#### Задача 3\n",
    "\n",
    "Монету подбросили 144 раза.\n",
    "Какова вероятность, что орел выпадет ровно 70 раз? "
   ]
  },
  {
   "cell_type": "markdown",
   "metadata": {},
   "source": [
    "Решение:\n",
    "\n",
    "1.1\n",
    "\n",
    "$\n",
    "p_y(k) =\n",
    "{C_n^k\\over\\bar{A_2^n}} =\n",
    "{C_n^k\\over2^n}\n",
    "$\n",
    "\n",
    "\n",
    "1.2\n",
    "\n",
    "$\n",
    "q = 1 - p\n",
    "\\newline\n",
    "p_y(k) =\n",
    "f(k, n, p) =\n",
    "C_n^k p^k q^{n - k}\n",
    "$\n",
    "\n",
    "$\n",
    "p = 0.5\n",
    "\\newline\n",
    "q = 1 - p = 0.5 = p\n",
    "$\n",
    "\n",
    "$\n",
    "p_y(k) =\n",
    "f(k, n, 0.5) =\n",
    "C_n^k p^k p^{n - k} =\n",
    "C_n^k p^n =\n",
    "{C_n^k \\over 2^n}\n",
    "$\n",
    "\n",
    "2.\n",
    "\n",
    "$\n",
    "k = 70\n",
    "\\newline\n",
    "n = 144\n",
    "$\n",
    "\n",
    "$\n",
    "p_y(k) =\n",
    "{C_{144}^{70} \\over 2^{144}}\n",
    "$"
   ]
  },
  {
   "cell_type": "code",
   "execution_count": 2,
   "metadata": {},
   "outputs": [
    {
     "name": "stdout",
     "output_type": "stream",
     "text": [
      "number of trials (n): 144\n",
      "success probability (p): 0.5\n",
      "number of successes (k): 70\n",
      "probability: 0.062812\n",
      "check: True\n"
     ]
    }
   ],
   "source": [
    "# Set parameters. \n",
    "# Binomial distribution support and parameters.\n",
    "k, n, p = 70, 144, .5\n",
    "# Solution precision in decimal digits. \n",
    "ndigits = 6\n",
    "\n",
    "# Find probability in alternative ways.\n",
    "probability = [\n",
    "    my_combinations(n, k) * p**n,\n",
    "    my_binom(k, n, p),\n",
    "    binom.pmf(k, n, p)\n",
    "]\n",
    "\n",
    "# Round and check alternative solutions to be equal.\n",
    "probability = [round(_, ndigits=ndigits) for _ in probability]\n",
    "check = all([_ == probability[0] for _ in probability[1:]])\n",
    "\n",
    "print(\n",
    "    f'number of trials (n): {n}',\n",
    "    f'success probability (p): {p}',\n",
    "    f'number of successes (k): {k}',\n",
    "    f'probability: {probability[0]}',\n",
    "    f'check: {check}',\n",
    "    sep='\\n'    \n",
    ")"
   ]
  },
  {
   "cell_type": "code",
   "execution_count": 3,
   "metadata": {},
   "outputs": [
    {
     "name": "stdout",
     "output_type": "stream",
     "text": [
      "7.6 µs ± 225 ns per loop (mean ± std. dev. of 7 runs, 100000 loops each)\n"
     ]
    }
   ],
   "source": [
    "%%timeit\n",
    "my_binom(k, n, p)"
   ]
  },
  {
   "cell_type": "code",
   "execution_count": 4,
   "metadata": {},
   "outputs": [
    {
     "name": "stdout",
     "output_type": "stream",
     "text": [
      "322 µs ± 19.7 µs per loop (mean ± std. dev. of 7 runs, 1000 loops each)\n"
     ]
    }
   ],
   "source": [
    "%%timeit\n",
    "binom.pmf(k, n, p)"
   ]
  }
 ],
 "metadata": {
  "kernelspec": {
   "display_name": "Python 3",
   "language": "python",
   "name": "python3"
  },
  "language_info": {
   "codemirror_mode": {
    "name": "ipython",
    "version": 3
   },
   "file_extension": ".py",
   "mimetype": "text/x-python",
   "name": "python",
   "nbconvert_exporter": "python",
   "pygments_lexer": "ipython3",
   "version": "3.8.7"
  }
 },
 "nbformat": 4,
 "nbformat_minor": 4
}
