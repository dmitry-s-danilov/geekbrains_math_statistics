{
 "cells": [
  {
   "cell_type": "code",
   "execution_count": 1,
   "metadata": {},
   "outputs": [],
   "source": [
    "from scipy.special import comb"
   ]
  },
  {
   "cell_type": "code",
   "execution_count": 2,
   "metadata": {},
   "outputs": [],
   "source": [
    "# Set parameters.\n",
    "\n",
    "n = 8, 12\n",
    "m = 5, 5\n",
    "k = 2, 4\n",
    "s = 3"
   ]
  },
  {
   "cell_type": "code",
   "execution_count": 3,
   "metadata": {},
   "outputs": [],
   "source": [
    "# Find limits.\n",
    "\n",
    "r = (\n",
    "    max(0, m[0] + k[0] - n[0], s - m[1], s - k[1]),\n",
    "    min(m[0], k[0], s, n[1] + s - m[1] - k[1])\n",
    ")"
   ]
  },
  {
   "cell_type": "code",
   "execution_count": 4,
   "metadata": {},
   "outputs": [],
   "source": [
    "# Find number of combinations.\n",
    "\n",
    "c = (\n",
    "    sum(\n",
    "        [\n",
    "            comb(m[0], i) *\n",
    "            comb(n[0] - m[0], k[0] - i) *\n",
    "            comb(m[1], s - i) *\n",
    "            comb(n[1] - m[1], i + k[1] - s) \n",
    "            for i in range(r[0], r[1] + 1)\n",
    "        ]\n",
    "    ),\n",
    "    comb(n[0], k[0]) * comb(n[1], k[1])\n",
    ")"
   ]
  },
  {
   "cell_type": "code",
   "execution_count": 5,
   "metadata": {},
   "outputs": [],
   "source": [
    "# Find probability.\n",
    "\n",
    "p = c[0] / c[1]"
   ]
  },
  {
   "cell_type": "code",
   "execution_count": 6,
   "metadata": {},
   "outputs": [
    {
     "name": "stdout",
     "output_type": "stream",
     "text": [
      "p =  5110 /  13860 =  0.369\n"
     ]
    }
   ],
   "source": [
    "# Print results.\n",
    "\n",
    "print(f'p = {c[0]: n} / {c[1]: n} = {p: .3f}')"
   ]
  }
 ],
 "metadata": {
  "kernelspec": {
   "display_name": "Python 3",
   "language": "python",
   "name": "python3"
  },
  "language_info": {
   "codemirror_mode": {
    "name": "ipython",
    "version": 3
   },
   "file_extension": ".py",
   "mimetype": "text/x-python",
   "name": "python",
   "nbconvert_exporter": "python",
   "pygments_lexer": "ipython3",
   "version": "3.8.8"
  }
 },
 "nbformat": 4,
 "nbformat_minor": 4
}
