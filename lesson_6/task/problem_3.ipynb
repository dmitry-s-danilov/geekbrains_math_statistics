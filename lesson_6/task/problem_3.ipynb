{
 "cells": [
  {
   "cell_type": "code",
   "execution_count": 1,
   "metadata": {},
   "outputs": [],
   "source": [
    "import numpy as np\n",
    "from problem_2 import significance_interval, confidence_interval"
   ]
  },
  {
   "cell_type": "code",
   "execution_count": 2,
   "metadata": {},
   "outputs": [
    {
     "name": "stdout",
     "output_type": "stream",
     "text": [
      "confidence interval: [172.3, 176.1]\n"
     ]
    }
   ],
   "source": [
    "# Set parameters.\n",
    "D_0 = 25  # population variance\n",
    "n = 27  # sample size\n",
    "E_1 = 174.2  # sample mean\n",
    "C = .95  # confidence level\n",
    "\n",
    "S_0 = D_0**.5\n",
    "A = 1 - C\n",
    "\n",
    "z_a_i = significance_interval(A)\n",
    "E_0_i = confidence_interval(E_1, S_0, n, z_a_i)\n",
    "\n",
    "print(\n",
    "    'confidence interval: [{:.1f}, {:.1f}]'.\n",
    "    format(*E_0_i)\n",
    ")"
   ]
  }
 ],
 "metadata": {
  "kernelspec": {
   "display_name": "math_statistics",
   "language": "python",
   "name": "math_statistics"
  },
  "language_info": {
   "codemirror_mode": {
    "name": "ipython",
    "version": 3
   },
   "file_extension": ".py",
   "mimetype": "text/x-python",
   "name": "python",
   "nbconvert_exporter": "python",
   "pygments_lexer": "ipython3",
   "version": "3.6.12"
  }
 },
 "nbformat": 4,
 "nbformat_minor": 4
}
