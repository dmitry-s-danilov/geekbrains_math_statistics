{
 "cells": [
  {
   "cell_type": "code",
   "execution_count": 1,
   "metadata": {},
   "outputs": [],
   "source": [
    "from math import exp\n",
    "from my_lib import my_poisson\n",
    "from scipy.stats import poisson"
   ]
  },
  {
   "cell_type": "markdown",
   "metadata": {},
   "source": [
    "#### Задача 2\n",
    "\n",
    "Вероятность того, что лампочка перегорит в течение первого дня эксплуатации, равна 0.0004.\n",
    "В жилом комплексе после ремонта в один день включили 5000 новых лампочек.\n",
    "1. Какова вероятность, что ни одна из них не перегорит в первый день? \n",
    "2. Какова вероятность, что перегорят ровно две?"
   ]
  },
  {
   "cell_type": "markdown",
   "metadata": {},
   "source": [
    "1.\n",
    "Решение\n",
    "\n",
    "1.1\n",
    "\n",
    "$\n",
    "q = 1 - p\n",
    "\\newline\n",
    "p_y(0) =\n",
    "\\prod_{i=1}^n q = \n",
    "q^n\n",
    "$\n",
    "\n",
    "1.2\n",
    "\n",
    "$\n",
    "q = 1 - p\n",
    "\\newline\n",
    "p_y(k) =\n",
    "f(k, n, p) =\n",
    "C_n^k p^k q^{n - k}\n",
    "$\n",
    "\n",
    "$\n",
    "k = 0\n",
    "$\n",
    "\n",
    "$\n",
    "p_y(0) =\n",
    "f(0, n, p) =\n",
    "C_n^0 p^0 q^n =\n",
    "q^n\n",
    "$\n",
    "\n",
    "2.\n",
    "\n",
    "$\n",
    "n = 5000\n",
    "\\newline\n",
    "p = 0.0004\n",
    "$\n",
    "\n",
    "$\n",
    "q = 1 - p = 0.9996\n",
    "\\newline\n",
    "p_y(0) =\n",
    "q^n =\n",
    "{0.9996}^{5000}\n",
    "$\n",
    "\n",
    "3.\n",
    "\n",
    "$\n",
    "\\mu = n p\n",
    "\\newline\n",
    "p_y(k) =\n",
    "f(k, \\mu) =\n",
    "e^{-\\mu}{\\mu^k\\over{k!}}\n",
    "$\n",
    "\n",
    "$\n",
    "k = 0\n",
    "$\n",
    "\n",
    "$\n",
    "p_y(0) =\n",
    "f(0, \\mu) =\n",
    "e^{-\\mu}{\\mu^0\\over{0!}} =\n",
    "e^{-\\mu}\n",
    "$\n",
    "\n",
    "\n",
    "\n",
    "$\n",
    "n = 5000\n",
    "\\newline\n",
    "p = 0.0004\n",
    "$\n",
    "\n",
    "$\n",
    "\\mu = n p\n",
    "= 2\n",
    "$\n",
    "\n",
    "\n",
    "$\n",
    "p_y(0) = e^{-2}\n",
    "$"
   ]
  },
  {
   "cell_type": "code",
   "execution_count": 2,
   "metadata": {},
   "outputs": [
    {
     "name": "stdout",
     "output_type": "stream",
     "text": [
      "number of trials (n): 5000\n",
      "success probability (p): 0.0004\n",
      "failure probability (q): 0.9996\n",
      "rate (mu): 2.0\n",
      "Binomial probability: 0.135281\n",
      "Poisson probability: 0.135335\n",
      "Absolute difference: 5.3999999999998494e-05\n"
     ]
    }
   ],
   "source": [
    "# Set parameters.\n",
    "# Binomial distribution support and parameters.\n",
    "n, p = 5000, .0004\n",
    "# Solution precision in decimal digits.\n",
    "ndigits = 6\n",
    "\n",
    "# Binomial distribution failure probability.\n",
    "q = 1 - p\n",
    "# Poisson distribution parameter.\n",
    "mu = n * p\n",
    "\n",
    "# Find probability in alternative ways.\n",
    "probability = [\n",
    "    q ** n,\n",
    "    exp(-mu)\n",
    "]\n",
    "\n",
    "# Round solutions and find absolute difference.\n",
    "probability = [round(_, ndigits=ndigits) for _ in probability]\n",
    "difference = abs(probability[0] - probability[1])\n",
    "\n",
    "print(\n",
    "    f'number of trials (n): {n}',\n",
    "    f'success probability (p): {p}',\n",
    "    f'failure probability (q): {q}',\n",
    "    f'rate (mu): {mu}',\n",
    "    f'Binomial probability: {probability[0]}',\n",
    "    f'Poisson probability: {probability[1]}',\n",
    "    f'Absolute difference: {difference}',\n",
    "    sep='\\n'\n",
    ")"
   ]
  },
  {
   "cell_type": "code",
   "execution_count": 3,
   "metadata": {},
   "outputs": [
    {
     "name": "stdout",
     "output_type": "stream",
     "text": [
      "number of trials (n): 5000\n",
      "success probability (p): 0.0004\n",
      "number of successes (k): 0\n",
      "rate (mu): 2.0\n",
      "probability: 0.135335\n",
      "check: True\n"
     ]
    }
   ],
   "source": [
    "# Set parameters.\n",
    "# Binomial distribution support and parameters.\n",
    "k, n, p = 0, 5000, .0004\n",
    "# Solution precision in decimal digits.\n",
    "ndigits = 6\n",
    "\n",
    "# Poisson distribution parameter.\n",
    "mu = n * p\n",
    "\n",
    "# Find probability in alternative ways.\n",
    "probability = [\n",
    "    exp(-mu),\n",
    "    my_poisson(k, mu),\n",
    "    poisson.pmf(k, mu)\n",
    "]\n",
    "\n",
    "# Round and check alternative solutions to be equal.\n",
    "probability = [round(_, ndigits=ndigits) for _ in probability]\n",
    "check = all([_ == probability[0] for _ in probability[1:]])\n",
    "\n",
    "print(\n",
    "    f'number of trials (n): {n}',\n",
    "    f'success probability (p): {p}',\n",
    "    f'number of successes (k): {k}',\n",
    "    f'rate (mu): {mu}',\n",
    "    f'probability: {probability[0]}',\n",
    "    f'check: {check}',\n",
    "    sep='\\n'    \n",
    ")"
   ]
  },
  {
   "cell_type": "code",
   "execution_count": 4,
   "metadata": {},
   "outputs": [
    {
     "name": "stdout",
     "output_type": "stream",
     "text": [
      "554 ns ± 33.6 ns per loop (mean ± std. dev. of 7 runs, 1000000 loops each)\n"
     ]
    }
   ],
   "source": [
    "%%timeit\n",
    "my_poisson(k, mu)"
   ]
  },
  {
   "cell_type": "code",
   "execution_count": 5,
   "metadata": {},
   "outputs": [
    {
     "name": "stdout",
     "output_type": "stream",
     "text": [
      "288 µs ± 12.9 µs per loop (mean ± std. dev. of 7 runs, 1000 loops each)\n"
     ]
    }
   ],
   "source": [
    "%%timeit\n",
    "poisson.pmf(k, mu)"
   ]
  }
 ],
 "metadata": {
  "kernelspec": {
   "display_name": "Python 3",
   "language": "python",
   "name": "python3"
  },
  "language_info": {
   "codemirror_mode": {
    "name": "ipython",
    "version": 3
   },
   "file_extension": ".py",
   "mimetype": "text/x-python",
   "name": "python",
   "nbconvert_exporter": "python",
   "pygments_lexer": "ipython3",
   "version": "3.8.7"
  }
 },
 "nbformat": 4,
 "nbformat_minor": 4
}
